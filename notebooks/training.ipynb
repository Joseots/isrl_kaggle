{
 "cells": [
  {
   "cell_type": "code",
   "execution_count": 6,
   "metadata": {},
   "outputs": [
    {
     "ename": "ModuleNotFoundError",
     "evalue": "No module named 'config'",
     "output_type": "error",
     "traceback": [
      "\u001b[0;31m---------------------------------------------------------------------------\u001b[0m",
      "\u001b[0;31mModuleNotFoundError\u001b[0m                       Traceback (most recent call last)",
      "\u001b[0;32m/tmp/ipykernel_9643/1591044803.py\u001b[0m in \u001b[0;36m<cell line: 2>\u001b[0;34m()\u001b[0m\n\u001b[1;32m      1\u001b[0m \u001b[0;32mfrom\u001b[0m \u001b[0mdata_generator\u001b[0m \u001b[0;32mimport\u001b[0m \u001b[0mDataGenerator\u001b[0m\u001b[0;34m\u001b[0m\u001b[0;34m\u001b[0m\u001b[0m\n\u001b[0;32m----> 2\u001b[0;31m \u001b[0;32mimport\u001b[0m \u001b[0mconfig\u001b[0m\u001b[0;34m\u001b[0m\u001b[0;34m\u001b[0m\u001b[0m\n\u001b[0m\u001b[1;32m      3\u001b[0m \u001b[0;32mimport\u001b[0m \u001b[0mnumpy\u001b[0m \u001b[0;32mas\u001b[0m \u001b[0mnp\u001b[0m\u001b[0;34m\u001b[0m\u001b[0;34m\u001b[0m\u001b[0m\n\u001b[1;32m      4\u001b[0m \u001b[0;32mimport\u001b[0m \u001b[0mtensorflow\u001b[0m \u001b[0;32mas\u001b[0m \u001b[0mtf\u001b[0m\u001b[0;34m\u001b[0m\u001b[0;34m\u001b[0m\u001b[0m\n",
      "\u001b[0;31mModuleNotFoundError\u001b[0m: No module named 'config'"
     ]
    }
   ],
   "source": [
    "from data_generator import DataGenerator\n",
    "import config\n",
    "import numpy as np\n",
    "import tensorflow as tf"
   ]
  },
  {
   "cell_type": "code",
   "execution_count": null,
   "metadata": {},
   "outputs": [],
   "source": [
    "data_size = len(config.train_set)\n",
    "list_IDs = np.arange(data_size)\n",
    "np.random.shuffle(list_IDs)\n",
    "val_start = int(data_size*.95)\n",
    "batch_size = 128\n",
    "\n",
    "# Generators\n",
    "train_gen = DataGenerator(list_IDs[val_start:], config.train_set,\n",
    "                          config.index_map, batch_size=batch_size)\n",
    "val_gen = DataGenerator(list_IDs[:val_start], config.train_set,\n",
    "                        config.index_map, batch_size=batch_size)\n",
    "\n",
    "input_shape = (160, 85, 3)\n",
    "model = tf.keras.applications.EfficientNetB0(\n",
    "    weights=None,\n",
    "    input_shape=input_shape,\n",
    "    classes=250\n",
    ")\n",
    "model.compile(optimizer='Adam',\n",
    "              loss='CategoricalCrossentropy',\n",
    "              metrics=['accuracy'])\n",
    "\n",
    "# checkpoint\n",
    "checkpoint = tf.keras.callbacks.ModelCheckpoint('best_model.h5',\n",
    "                                                monitor='accuracy', mode='max',\n",
    "                                                verbose=1, save_best_only=True)\n",
    "es = tf.keras.callbacks.EarlyStopping(monitor='loss', mode='min',\n",
    "                                      verbose=1, patience=200)\n",
    "callbacks_list = [es, checkpoint]\n",
    "\n",
    "# Train model on dataset\n",
    "model.fit(x=train_gen,\n",
    "          validation_data=val_gen,\n",
    "          epochs=20,\n",
    "          callbacks=callbacks_list)"
   ]
  }
 ],
 "metadata": {
  "kernelspec": {
   "display_name": "gpu",
   "language": "python",
   "name": "python3"
  },
  "language_info": {
   "codemirror_mode": {
    "name": "ipython",
    "version": 3
   },
   "file_extension": ".py",
   "mimetype": "text/x-python",
   "name": "python",
   "nbconvert_exporter": "python",
   "pygments_lexer": "ipython3",
   "version": "3.9.16"
  },
  "orig_nbformat": 4
 },
 "nbformat": 4,
 "nbformat_minor": 2
}
